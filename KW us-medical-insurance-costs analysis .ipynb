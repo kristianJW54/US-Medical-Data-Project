{
 "cells": [
  {
   "cell_type": "markdown",
   "metadata": {},
   "source": [
    "# U.S. Medical Insurance Costs"
   ]
  },
  {
   "cell_type": "markdown",
   "metadata": {},
   "source": [
    "**Project Aims**\n",
    "\n",
    "This project will aim to analyze the U.S. Medical Insurance Costs dataset.\n",
    "\n",
    "First, I will use python classes and methods to sort and organise the data. I will use containers to store the data and methods to allow analsing various aspects of the data and perform various functions. I will also create methods to analyse the data and group the data.\n",
    "\n",
    "Secondly, I will use libraries to then query tables and visualise the data in the dataset and create function which will perform analysis on the data.\n",
    "\n",
    "Lastly, I will create a dashboard to visualise the data."
   ]
  },
  {
   "cell_type": "markdown",
   "metadata": {},
   "source": [
    "**1) Imports**"
   ]
  },
  {
   "cell_type": "code",
   "execution_count": 32,
   "metadata": {},
   "outputs": [],
   "source": [
    "import csv"
   ]
  },
  {
   "cell_type": "markdown",
   "metadata": {},
   "source": [
    "**2) Creating a Class for handling the data**"
   ]
  },
  {
   "cell_type": "code",
   "execution_count": 33,
   "metadata": {},
   "outputs": [],
   "source": [
    "\n",
    "class Data:\n",
    "    def __init__(self, csv_file, name):\n",
    "        self.name = name\n",
    "        self.csv_file = csv_file\n",
    "        self.data = {}\n",
    "    \n",
    "    ## Method to read and display the data in the csv class object\n",
    "    \n",
    "    def readcsv(self):\n",
    "        with open(self.csv_file, \"r\") as file:\n",
    "            reader = csv.DictReader(file)\n",
    "            \n",
    "            person_number = 1\n",
    "            \n",
    "            for row in reader:\n",
    "                age = row[\"age\"]\n",
    "                sex = row[\"sex\"]\n",
    "                bmi = row[\"bmi\"]\n",
    "                children = row[\"children\"]\n",
    "                smoker = row[\"smoker\"]\n",
    "                region = row[\"region\"]\n",
    "                charges = row[\"charges\"]\n",
    "                \n",
    "                key = f\"Person {person_number}\"\n",
    "                \n",
    "                self.data[key] = {\"Age\" : age, \"Sex\" : sex, \"BMI\" : bmi, \"Children\" : children, \"Smoker\" : smoker, \"Region\" : region, \"Charges\" : charges}\n",
    "                \n",
    "                person_number += 1\n",
    "                \n",
    "                \n",
    "                \n"
   ]
  },
  {
   "cell_type": "code",
   "execution_count": 34,
   "metadata": {},
   "outputs": [
    {
     "name": "stdout",
     "output_type": "stream",
     "text": [
      "{'Age': '19', 'Sex': 'female', 'BMI': '27.9', 'Children': '0', 'Smoker': 'yes', 'Region': 'southwest', 'Charges': '16884.924'}\n"
     ]
    }
   ],
   "source": [
    "file_name = \"insurance.csv\"        \n",
    "medical_data = Data(file_name, \"Medical Data\")\n",
    "medical_data.readcsv()\n",
    "print(medical_data.data.get(\"Person 1\"))"
   ]
  },
  {
   "cell_type": "code",
   "execution_count": null,
   "metadata": {},
   "outputs": [],
   "source": []
  }
 ],
 "metadata": {
  "kernelspec": {
   "display_name": "Python 3 (ipykernel)",
   "language": "python",
   "name": "python3"
  },
  "language_info": {
   "codemirror_mode": {
    "name": "ipython",
    "version": 3
   },
   "file_extension": ".py",
   "mimetype": "text/x-python",
   "name": "python",
   "nbconvert_exporter": "python",
   "pygments_lexer": "ipython3",
   "version": "3.10.9"
  }
 },
 "nbformat": 4,
 "nbformat_minor": 4
}
